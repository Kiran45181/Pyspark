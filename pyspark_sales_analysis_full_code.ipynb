{
  "nbformat": 4,
  "nbformat_minor": 0,
  "metadata": {
    "colab": {
      "provenance": [],
      "authorship_tag": "ABX9TyNGAkCAaamFS0WeP2ao+xYv",
      "include_colab_link": true
    },
    "kernelspec": {
      "name": "python3",
      "display_name": "Python 3"
    },
    "language_info": {
      "name": "python"
    }
  },
  "cells": [
    {
      "cell_type": "markdown",
      "metadata": {
        "id": "view-in-github",
        "colab_type": "text"
      },
      "source": [
        "<a href=\"https://colab.research.google.com/github/Kiran45181/Pyspark/blob/main/pyspark_sales_analysis_full_code.ipynb\" target=\"_parent\"><img src=\"https://colab.research.google.com/assets/colab-badge.svg\" alt=\"Open In Colab\"/></a>"
      ]
    },
    {
      "cell_type": "markdown",
      "source": [
        "## Aggregation Problems"
      ],
      "metadata": {
        "id": "wmwFo6S9nQJU"
      }
    },
    {
      "cell_type": "code",
      "execution_count": 2,
      "metadata": {
        "colab": {
          "base_uri": "https://localhost:8080/"
        },
        "id": "TPMpqkzVkyY7",
        "outputId": "6b380671-6131-43e7-9eb0-040e0c0335e9"
      },
      "outputs": [
        {
          "output_type": "stream",
          "name": "stdout",
          "text": [
            "+-------+----------+-----------+-------------------+--------+-----+\n",
            "|sale_id|product_id|customer_id|          sale_date|quantity|price|\n",
            "+-------+----------+-----------+-------------------+--------+-----+\n",
            "|   1001|       101|        501|2025-07-10 08:23:00|       3| 25.5|\n",
            "|   1002|       102|        502|2025-07-11 09:45:00|       2| 15.0|\n",
            "|   1003|       103|        503|2025-07-12 10:15:00|       1| 30.0|\n",
            "|   1004|       101|        504|2025-07-13 12:20:00|       5| 25.5|\n",
            "|   1005|       105|        505|2025-07-14 14:35:00|      10| 45.0|\n",
            "|   1006|       102|        506|2025-07-15 16:00:00|       4| 15.0|\n",
            "+-------+----------+-----------+-------------------+--------+-----+\n",
            "\n"
          ]
        }
      ],
      "source": [
        "# Import required libraries\n",
        "from pyspark.sql import SparkSession\n",
        "from pyspark.sql import functions as F\n",
        "\n",
        "# Create SparkSession\n",
        "spark = SparkSession.builder.appName(\"SalesAnalysis\").getOrCreate()\n",
        "\n",
        "# ==========================\n",
        "# Create DataFrames\n",
        "# ==========================\n",
        "\n",
        "# Sales Dataset\n",
        "sales_data = [\n",
        "    (1001, 101, 501, \"2025-07-10 08:23:00\", 3, 25.5),\n",
        "    (1002, 102, 502, \"2025-07-11 09:45:00\", 2, 15.0),\n",
        "    (1003, 103, 503, \"2025-07-12 10:15:00\", 1, 30.0),\n",
        "    (1004, 101, 504, \"2025-07-13 12:20:00\", 5, 25.5),\n",
        "    (1005, 105, 505, \"2025-07-14 14:35:00\", 10, 45.0),\n",
        "    (1006, 102, 506, \"2025-07-15 16:00:00\", 4, 15.0)\n",
        "]\n",
        "sales_columns = [\"sale_id\", \"product_id\", \"customer_id\", \"sale_date\", \"quantity\", \"price\"]\n",
        "sales_df = spark.createDataFrame(sales_data, sales_columns)\n",
        "\n",
        "sales_df.show()"
      ]
    },
    {
      "cell_type": "code",
      "source": [
        "# Product Dataset\n",
        "product_data = [\n",
        "    (101, \"Widget A\", \"Gadgets\"),\n",
        "    (102, \"Widget B\", \"Gadgets\"),\n",
        "    (103, \"Widget C\", \"Electronics\"),\n",
        "    (104, \"Widget D\", \"Electronics\"),\n",
        "    (105, \"Widget E\", \"Home & Living\")\n",
        "]\n",
        "product_columns = [\"product_id\", \"product_name\", \"category\"]\n",
        "product_df = spark.createDataFrame(product_data, product_columns)\n",
        "\n",
        "product_df.show()"
      ],
      "metadata": {
        "colab": {
          "base_uri": "https://localhost:8080/"
        },
        "id": "koqvKuyqlKGk",
        "outputId": "5db54b70-3373-4707-e9d0-0bd7ece650cd"
      },
      "execution_count": 3,
      "outputs": [
        {
          "output_type": "stream",
          "name": "stdout",
          "text": [
            "+----------+------------+-------------+\n",
            "|product_id|product_name|     category|\n",
            "+----------+------------+-------------+\n",
            "|       101|    Widget A|      Gadgets|\n",
            "|       102|    Widget B|      Gadgets|\n",
            "|       103|    Widget C|  Electronics|\n",
            "|       104|    Widget D|  Electronics|\n",
            "|       105|    Widget E|Home & Living|\n",
            "+----------+------------+-------------+\n",
            "\n"
          ]
        }
      ]
    },
    {
      "cell_type": "code",
      "source": [
        "# Customer Dataset\n",
        "customer_data = [\n",
        "    (501, \"Alice\", \"alice@example.com\", \"2025-05-20 10:10:00\"),\n",
        "    (502, \"Bob\", \"bob@example.com\", \"2025-06-15 14:00:00\"),\n",
        "    (503, \"Charlie\", \"charlie@example.com\", \"2025-04-05 09:50:00\"),\n",
        "    (504, \"David\", \"david@example.com\", \"2025-07-01 12:25:00\"),\n",
        "    (505, \"Emma\", \"emma@example.com\", \"2025-07-10 15:30:00\"),\n",
        "    (506, \"Frank\", \"frank@example.com\", \"2025-03-23 17:00:00\")\n",
        "]\n",
        "customer_columns = [\"customer_id\", \"customer_name\", \"email\", \"join_date\"]\n",
        "customer_df = spark.createDataFrame(customer_data, customer_columns)\n",
        "customer_df.show()"
      ],
      "metadata": {
        "colab": {
          "base_uri": "https://localhost:8080/"
        },
        "id": "5_vFskwzlxtG",
        "outputId": "549502fb-6f9c-41ec-98d4-a0fc298826af"
      },
      "execution_count": 4,
      "outputs": [
        {
          "output_type": "stream",
          "name": "stdout",
          "text": [
            "+-----------+-------------+-------------------+-------------------+\n",
            "|customer_id|customer_name|              email|          join_date|\n",
            "+-----------+-------------+-------------------+-------------------+\n",
            "|        501|        Alice|  alice@example.com|2025-05-20 10:10:00|\n",
            "|        502|          Bob|    bob@example.com|2025-06-15 14:00:00|\n",
            "|        503|      Charlie|charlie@example.com|2025-04-05 09:50:00|\n",
            "|        504|        David|  david@example.com|2025-07-01 12:25:00|\n",
            "|        505|         Emma|   emma@example.com|2025-07-10 15:30:00|\n",
            "|        506|        Frank|  frank@example.com|2025-03-23 17:00:00|\n",
            "+-----------+-------------+-------------------+-------------------+\n",
            "\n"
          ]
        }
      ]
    },
    {
      "cell_type": "code",
      "source": [
        "# 1. Total Revenue Per Product\n",
        "sales_df = sales_df.withColumn(\"revenue\", F.col(\"quantity\") * F.col(\"price\"))\n",
        "total_revenue_per_product = sales_df.groupBy(\"product_id\").agg(F.sum(\"revenue\").alias(\"total_revenue\"))\n",
        "total_revenue_per_product.show()"
      ],
      "metadata": {
        "colab": {
          "base_uri": "https://localhost:8080/"
        },
        "id": "rD7JP-K5l_EQ",
        "outputId": "1067257e-7a2d-4867-c78b-d341160cdd7c"
      },
      "execution_count": 5,
      "outputs": [
        {
          "output_type": "stream",
          "name": "stdout",
          "text": [
            "+----------+-------------+\n",
            "|product_id|total_revenue|\n",
            "+----------+-------------+\n",
            "|       103|         30.0|\n",
            "|       101|        204.0|\n",
            "|       102|         90.0|\n",
            "|       105|        450.0|\n",
            "+----------+-------------+\n",
            "\n"
          ]
        }
      ]
    },
    {
      "cell_type": "code",
      "source": [
        "# 2. Total Quantity Sold Per Customer\n",
        "total_quantity_per_customer = sales_df.groupBy(\"customer_id\").agg(F.sum(\"quantity\").alias(\"total_quantity\"))\n",
        "total_quantity_per_customer.show()"
      ],
      "metadata": {
        "colab": {
          "base_uri": "https://localhost:8080/"
        },
        "id": "LPnRfBormfCZ",
        "outputId": "638672c4-d896-467e-dc93-9a0913518f3d"
      },
      "execution_count": 6,
      "outputs": [
        {
          "output_type": "stream",
          "name": "stdout",
          "text": [
            "+-----------+--------------+\n",
            "|customer_id|total_quantity|\n",
            "+-----------+--------------+\n",
            "|        502|             2|\n",
            "|        501|             3|\n",
            "|        503|             1|\n",
            "|        504|             5|\n",
            "|        506|             4|\n",
            "|        505|            10|\n",
            "+-----------+--------------+\n",
            "\n"
          ]
        }
      ]
    },
    {
      "cell_type": "code",
      "source": [
        "# 3. Average Revenue Per Customer\n",
        "avg_revenue_per_customer = sales_df.groupBy(\"customer_id\").agg(F.avg(\"revenue\").alias(\"avg_revenue\"))\n",
        "avg_revenue_per_customer.show()"
      ],
      "metadata": {
        "colab": {
          "base_uri": "https://localhost:8080/"
        },
        "id": "t_2Y3WQomoJE",
        "outputId": "2d9ecff9-7cd6-40d8-b5a5-4b24bddf7223"
      },
      "execution_count": 7,
      "outputs": [
        {
          "output_type": "stream",
          "name": "stdout",
          "text": [
            "+-----------+-----------+\n",
            "|customer_id|avg_revenue|\n",
            "+-----------+-----------+\n",
            "|        502|       30.0|\n",
            "|        501|       76.5|\n",
            "|        503|       30.0|\n",
            "|        504|      127.5|\n",
            "|        506|       60.0|\n",
            "|        505|      450.0|\n",
            "+-----------+-----------+\n",
            "\n"
          ]
        }
      ]
    },
    {
      "cell_type": "code",
      "source": [
        "# 4. Monthly Sales Total\n",
        "monthly_sales_total = sales_df.withColumn(\"month\", F.month(\"sale_date\")).groupBy(\"month\").agg(F.sum(\"revenue\").alias(\"total_sales\"))\n",
        "monthly_sales_total.show()"
      ],
      "metadata": {
        "colab": {
          "base_uri": "https://localhost:8080/"
        },
        "id": "1gFFwf4Qmt0k",
        "outputId": "5b960a93-0aec-45f7-d8ff-a3e8005b2257"
      },
      "execution_count": 8,
      "outputs": [
        {
          "output_type": "stream",
          "name": "stdout",
          "text": [
            "+-----+-----------+\n",
            "|month|total_sales|\n",
            "+-----+-----------+\n",
            "|    7|      774.0|\n",
            "+-----+-----------+\n",
            "\n"
          ]
        }
      ]
    },
    {
      "cell_type": "code",
      "source": [
        "# 5. Count of Sales Per Category\n",
        "sales_with_category = sales_df.join(product_df, on=\"product_id\", how=\"inner\")\n",
        "count_sales_per_category = sales_with_category.groupBy(\"category\").agg(F.count(\"*\").alias(\"sales_count\"))\n",
        "count_sales_per_category.show()"
      ],
      "metadata": {
        "colab": {
          "base_uri": "https://localhost:8080/"
        },
        "id": "QLfck9wUm0_y",
        "outputId": "39e6508d-7fcf-44db-d840-cabe3c7326b4"
      },
      "execution_count": 9,
      "outputs": [
        {
          "output_type": "stream",
          "name": "stdout",
          "text": [
            "+-------------+-----------+\n",
            "|     category|sales_count|\n",
            "+-------------+-----------+\n",
            "|  Electronics|          1|\n",
            "|      Gadgets|          4|\n",
            "|Home & Living|          1|\n",
            "+-------------+-----------+\n",
            "\n"
          ]
        }
      ]
    },
    {
      "cell_type": "code",
      "source": [
        "# 6. Top 3 Most Expensive Products Sold\n",
        "top3_expensive_products = sales_df.groupBy(\"product_id\").agg(F.sum(\"revenue\").alias(\"total_revenue\")).orderBy(F.desc(\"total_revenue\")).limit(3)\n",
        "top3_expensive_products.show()"
      ],
      "metadata": {
        "colab": {
          "base_uri": "https://localhost:8080/"
        },
        "id": "bgNuQUAVm7Jf",
        "outputId": "4e1d60bd-af0f-4b40-f553-7888e708a3aa"
      },
      "execution_count": 10,
      "outputs": [
        {
          "output_type": "stream",
          "name": "stdout",
          "text": [
            "+----------+-------------+\n",
            "|product_id|total_revenue|\n",
            "+----------+-------------+\n",
            "|       105|        450.0|\n",
            "|       101|        204.0|\n",
            "|       102|         90.0|\n",
            "+----------+-------------+\n",
            "\n"
          ]
        }
      ]
    },
    {
      "cell_type": "markdown",
      "source": [
        "## Joins"
      ],
      "metadata": {
        "id": "nS-0IBC9nW3i"
      }
    },
    {
      "cell_type": "code",
      "source": [
        "# 1. Join Sales with Product Information\n",
        "sales_product_join = sales_df.join(product_df, on=\"product_id\", how=\"inner\")\n",
        "sales_product_join.show()\n"
      ],
      "metadata": {
        "colab": {
          "base_uri": "https://localhost:8080/"
        },
        "id": "gqfcr1PGnem5",
        "outputId": "4546cbae-8824-4e5b-baa9-a5c21ee83fe0"
      },
      "execution_count": 11,
      "outputs": [
        {
          "output_type": "stream",
          "name": "stdout",
          "text": [
            "+----------+-------+-----------+-------------------+--------+-----+-------+------------+-------------+\n",
            "|product_id|sale_id|customer_id|          sale_date|quantity|price|revenue|product_name|     category|\n",
            "+----------+-------+-----------+-------------------+--------+-----+-------+------------+-------------+\n",
            "|       101|   1001|        501|2025-07-10 08:23:00|       3| 25.5|   76.5|    Widget A|      Gadgets|\n",
            "|       101|   1004|        504|2025-07-13 12:20:00|       5| 25.5|  127.5|    Widget A|      Gadgets|\n",
            "|       102|   1002|        502|2025-07-11 09:45:00|       2| 15.0|   30.0|    Widget B|      Gadgets|\n",
            "|       102|   1006|        506|2025-07-15 16:00:00|       4| 15.0|   60.0|    Widget B|      Gadgets|\n",
            "|       103|   1003|        503|2025-07-12 10:15:00|       1| 30.0|   30.0|    Widget C|  Electronics|\n",
            "|       105|   1005|        505|2025-07-14 14:35:00|      10| 45.0|  450.0|    Widget E|Home & Living|\n",
            "+----------+-------+-----------+-------------------+--------+-----+-------+------------+-------------+\n",
            "\n"
          ]
        }
      ]
    },
    {
      "cell_type": "code",
      "source": [
        "# 2. Join Sales with Customer Information\n",
        "sales_customer_join = sales_df.join(customer_df, on=\"customer_id\", how=\"inner\")\n",
        "sales_customer_join.show()"
      ],
      "metadata": {
        "colab": {
          "base_uri": "https://localhost:8080/"
        },
        "id": "Ep398OIpnlec",
        "outputId": "a7bd43d1-6912-4ad8-d38a-1d077e7ff885"
      },
      "execution_count": 12,
      "outputs": [
        {
          "output_type": "stream",
          "name": "stdout",
          "text": [
            "+-----------+-------+----------+-------------------+--------+-----+-------+-------------+-------------------+-------------------+\n",
            "|customer_id|sale_id|product_id|          sale_date|quantity|price|revenue|customer_name|              email|          join_date|\n",
            "+-----------+-------+----------+-------------------+--------+-----+-------+-------------+-------------------+-------------------+\n",
            "|        501|   1001|       101|2025-07-10 08:23:00|       3| 25.5|   76.5|        Alice|  alice@example.com|2025-05-20 10:10:00|\n",
            "|        502|   1002|       102|2025-07-11 09:45:00|       2| 15.0|   30.0|          Bob|    bob@example.com|2025-06-15 14:00:00|\n",
            "|        503|   1003|       103|2025-07-12 10:15:00|       1| 30.0|   30.0|      Charlie|charlie@example.com|2025-04-05 09:50:00|\n",
            "|        504|   1004|       101|2025-07-13 12:20:00|       5| 25.5|  127.5|        David|  david@example.com|2025-07-01 12:25:00|\n",
            "|        505|   1005|       105|2025-07-14 14:35:00|      10| 45.0|  450.0|         Emma|   emma@example.com|2025-07-10 15:30:00|\n",
            "|        506|   1006|       102|2025-07-15 16:00:00|       4| 15.0|   60.0|        Frank|  frank@example.com|2025-03-23 17:00:00|\n",
            "+-----------+-------+----------+-------------------+--------+-----+-------+-------------+-------------------+-------------------+\n",
            "\n"
          ]
        }
      ]
    },
    {
      "cell_type": "code",
      "source": [
        "# 3. Inner Join Between Sales and Products (Gadgets Only)\n",
        "gadgets_sales = sales_df.join(product_df, on=\"product_id\", how=\"inner\").filter(F.col(\"category\") == \"Gadgets\")\n",
        "gadgets_sales.show()"
      ],
      "metadata": {
        "colab": {
          "base_uri": "https://localhost:8080/"
        },
        "id": "_jjAGBMmnovQ",
        "outputId": "aac5c46a-5385-4e62-931e-a1d50f7a9e4d"
      },
      "execution_count": 13,
      "outputs": [
        {
          "output_type": "stream",
          "name": "stdout",
          "text": [
            "+----------+-------+-----------+-------------------+--------+-----+-------+------------+--------+\n",
            "|product_id|sale_id|customer_id|          sale_date|quantity|price|revenue|product_name|category|\n",
            "+----------+-------+-----------+-------------------+--------+-----+-------+------------+--------+\n",
            "|       101|   1001|        501|2025-07-10 08:23:00|       3| 25.5|   76.5|    Widget A| Gadgets|\n",
            "|       101|   1004|        504|2025-07-13 12:20:00|       5| 25.5|  127.5|    Widget A| Gadgets|\n",
            "|       102|   1002|        502|2025-07-11 09:45:00|       2| 15.0|   30.0|    Widget B| Gadgets|\n",
            "|       102|   1006|        506|2025-07-15 16:00:00|       4| 15.0|   60.0|    Widget B| Gadgets|\n",
            "+----------+-------+-----------+-------------------+--------+-----+-------+------------+--------+\n",
            "\n"
          ]
        }
      ]
    },
    {
      "cell_type": "code",
      "source": [
        "# 4. Left Join Between Sales and Products\n",
        "left_join_sales_products = sales_df.join(product_df, on=\"product_id\", how=\"left\")\n",
        "left_join_sales_products.show()"
      ],
      "metadata": {
        "colab": {
          "base_uri": "https://localhost:8080/"
        },
        "id": "u2uGaikcnta3",
        "outputId": "b2e802de-334c-4d1d-aa37-923fb8aae511"
      },
      "execution_count": 14,
      "outputs": [
        {
          "output_type": "stream",
          "name": "stdout",
          "text": [
            "+----------+-------+-----------+-------------------+--------+-----+-------+------------+-------------+\n",
            "|product_id|sale_id|customer_id|          sale_date|quantity|price|revenue|product_name|     category|\n",
            "+----------+-------+-----------+-------------------+--------+-----+-------+------------+-------------+\n",
            "|       103|   1003|        503|2025-07-12 10:15:00|       1| 30.0|   30.0|    Widget C|  Electronics|\n",
            "|       101|   1001|        501|2025-07-10 08:23:00|       3| 25.5|   76.5|    Widget A|      Gadgets|\n",
            "|       102|   1002|        502|2025-07-11 09:45:00|       2| 15.0|   30.0|    Widget B|      Gadgets|\n",
            "|       105|   1005|        505|2025-07-14 14:35:00|      10| 45.0|  450.0|    Widget E|Home & Living|\n",
            "|       101|   1004|        504|2025-07-13 12:20:00|       5| 25.5|  127.5|    Widget A|      Gadgets|\n",
            "|       102|   1006|        506|2025-07-15 16:00:00|       4| 15.0|   60.0|    Widget B|      Gadgets|\n",
            "+----------+-------+-----------+-------------------+--------+-----+-------+------------+-------------+\n",
            "\n"
          ]
        }
      ]
    },
    {
      "cell_type": "code",
      "source": [
        "# 5. Self-Join Sales Table\n",
        "sales_self_join = sales_df.alias(\"a\").join(\n",
        "    sales_df.alias(\"b\"),\n",
        "    (F.col(\"a.product_id\") == F.col(\"b.product_id\")) & (F.col(\"a.sale_id\") != F.col(\"b.sale_id\")),\n",
        "    how=\"inner\"\n",
        ")\n",
        "sales_self_join.show()"
      ],
      "metadata": {
        "colab": {
          "base_uri": "https://localhost:8080/"
        },
        "id": "10KSTnfCnxJn",
        "outputId": "3f176c5d-35ae-49e7-c668-93b50c22c920"
      },
      "execution_count": 15,
      "outputs": [
        {
          "output_type": "stream",
          "name": "stdout",
          "text": [
            "+-------+----------+-----------+-------------------+--------+-----+-------+-------+----------+-----------+-------------------+--------+-----+-------+\n",
            "|sale_id|product_id|customer_id|          sale_date|quantity|price|revenue|sale_id|product_id|customer_id|          sale_date|quantity|price|revenue|\n",
            "+-------+----------+-----------+-------------------+--------+-----+-------+-------+----------+-----------+-------------------+--------+-----+-------+\n",
            "|   1001|       101|        501|2025-07-10 08:23:00|       3| 25.5|   76.5|   1004|       101|        504|2025-07-13 12:20:00|       5| 25.5|  127.5|\n",
            "|   1004|       101|        504|2025-07-13 12:20:00|       5| 25.5|  127.5|   1001|       101|        501|2025-07-10 08:23:00|       3| 25.5|   76.5|\n",
            "|   1002|       102|        502|2025-07-11 09:45:00|       2| 15.0|   30.0|   1006|       102|        506|2025-07-15 16:00:00|       4| 15.0|   60.0|\n",
            "|   1006|       102|        506|2025-07-15 16:00:00|       4| 15.0|   60.0|   1002|       102|        502|2025-07-11 09:45:00|       2| 15.0|   30.0|\n",
            "+-------+----------+-----------+-------------------+--------+-----+-------+-------+----------+-----------+-------------------+--------+-----+-------+\n",
            "\n"
          ]
        }
      ]
    },
    {
      "cell_type": "code",
      "source": [
        "# 6. Full Outer Join Sales and Products\n",
        "full_outer_join = sales_df.join(product_df, on=\"product_id\", how=\"outer\")\n",
        "full_outer_join.show()"
      ],
      "metadata": {
        "colab": {
          "base_uri": "https://localhost:8080/"
        },
        "id": "6PVgZFlLn1QO",
        "outputId": "5d184fa2-9cab-450f-fed1-539fcf352e0a"
      },
      "execution_count": 16,
      "outputs": [
        {
          "output_type": "stream",
          "name": "stdout",
          "text": [
            "+----------+-------+-----------+-------------------+--------+-----+-------+------------+-------------+\n",
            "|product_id|sale_id|customer_id|          sale_date|quantity|price|revenue|product_name|     category|\n",
            "+----------+-------+-----------+-------------------+--------+-----+-------+------------+-------------+\n",
            "|       101|   1001|        501|2025-07-10 08:23:00|       3| 25.5|   76.5|    Widget A|      Gadgets|\n",
            "|       101|   1004|        504|2025-07-13 12:20:00|       5| 25.5|  127.5|    Widget A|      Gadgets|\n",
            "|       102|   1002|        502|2025-07-11 09:45:00|       2| 15.0|   30.0|    Widget B|      Gadgets|\n",
            "|       102|   1006|        506|2025-07-15 16:00:00|       4| 15.0|   60.0|    Widget B|      Gadgets|\n",
            "|       103|   1003|        503|2025-07-12 10:15:00|       1| 30.0|   30.0|    Widget C|  Electronics|\n",
            "|       104|   NULL|       NULL|               NULL|    NULL| NULL|   NULL|    Widget D|  Electronics|\n",
            "|       105|   1005|        505|2025-07-14 14:35:00|      10| 45.0|  450.0|    Widget E|Home & Living|\n",
            "+----------+-------+-----------+-------------------+--------+-----+-------+------------+-------------+\n",
            "\n"
          ]
        }
      ]
    },
    {
      "cell_type": "code",
      "source": [
        "# 7. Join Multiple Tables (Sales + Product + Customer)\n",
        "sales_full_details = sales_df.join(product_df, on=\"product_id\", how=\"inner\").join(customer_df, on=\"customer_id\", how=\"inner\")\n",
        "sales_full_details.show()"
      ],
      "metadata": {
        "colab": {
          "base_uri": "https://localhost:8080/"
        },
        "id": "rOFcJxUMn5j2",
        "outputId": "d37bba36-c6b6-4f92-8fda-00375e775cae"
      },
      "execution_count": 17,
      "outputs": [
        {
          "output_type": "stream",
          "name": "stdout",
          "text": [
            "+-----------+----------+-------+-------------------+--------+-----+-------+------------+-------------+-------------+-------------------+-------------------+\n",
            "|customer_id|product_id|sale_id|          sale_date|quantity|price|revenue|product_name|     category|customer_name|              email|          join_date|\n",
            "+-----------+----------+-------+-------------------+--------+-----+-------+------------+-------------+-------------+-------------------+-------------------+\n",
            "|        502|       102|   1002|2025-07-11 09:45:00|       2| 15.0|   30.0|    Widget B|      Gadgets|          Bob|    bob@example.com|2025-06-15 14:00:00|\n",
            "|        501|       101|   1001|2025-07-10 08:23:00|       3| 25.5|   76.5|    Widget A|      Gadgets|        Alice|  alice@example.com|2025-05-20 10:10:00|\n",
            "|        503|       103|   1003|2025-07-12 10:15:00|       1| 30.0|   30.0|    Widget C|  Electronics|      Charlie|charlie@example.com|2025-04-05 09:50:00|\n",
            "|        504|       101|   1004|2025-07-13 12:20:00|       5| 25.5|  127.5|    Widget A|      Gadgets|        David|  david@example.com|2025-07-01 12:25:00|\n",
            "|        506|       102|   1006|2025-07-15 16:00:00|       4| 15.0|   60.0|    Widget B|      Gadgets|        Frank|  frank@example.com|2025-03-23 17:00:00|\n",
            "|        505|       105|   1005|2025-07-14 14:35:00|      10| 45.0|  450.0|    Widget E|Home & Living|         Emma|   emma@example.com|2025-07-10 15:30:00|\n",
            "+-----------+----------+-------+-------------------+--------+-----+-------+------------+-------------+-------------+-------------------+-------------------+\n",
            "\n"
          ]
        }
      ]
    },
    {
      "cell_type": "markdown",
      "source": [
        "## Additional Transformations"
      ],
      "metadata": {
        "id": "WDYUk2eJoEVt"
      }
    },
    {
      "cell_type": "code",
      "source": [
        "# 1. Filter Data for Specific Date Range\n",
        "filtered_sales = sales_df.filter(\n",
        "    (F.col(\"sale_date\") >= \"2025-07-10\") & (F.col(\"sale_date\") <= \"2025-07-15\")\n",
        ")\n",
        "filtered_sales.show()"
      ],
      "metadata": {
        "colab": {
          "base_uri": "https://localhost:8080/"
        },
        "id": "IPDxYGWvoGwl",
        "outputId": "dd4962b7-b971-4451-93e2-9be675db86f7"
      },
      "execution_count": 18,
      "outputs": [
        {
          "output_type": "stream",
          "name": "stdout",
          "text": [
            "+-------+----------+-----------+-------------------+--------+-----+-------+\n",
            "|sale_id|product_id|customer_id|          sale_date|quantity|price|revenue|\n",
            "+-------+----------+-----------+-------------------+--------+-----+-------+\n",
            "|   1001|       101|        501|2025-07-10 08:23:00|       3| 25.5|   76.5|\n",
            "|   1002|       102|        502|2025-07-11 09:45:00|       2| 15.0|   30.0|\n",
            "|   1003|       103|        503|2025-07-12 10:15:00|       1| 30.0|   30.0|\n",
            "|   1004|       101|        504|2025-07-13 12:20:00|       5| 25.5|  127.5|\n",
            "|   1005|       105|        505|2025-07-14 14:35:00|      10| 45.0|  450.0|\n",
            "+-------+----------+-----------+-------------------+--------+-----+-------+\n",
            "\n"
          ]
        }
      ]
    },
    {
      "cell_type": "code",
      "source": [
        "# 2. Top 5 Customers by Total Spend\n",
        "top5_customers = sales_df.groupBy(\"customer_id\") \\\n",
        "    .agg(F.sum(\"revenue\").alias(\"total_spend\")) \\\n",
        "    .orderBy(F.desc(\"total_spend\")) \\\n",
        "    .limit(5)\n",
        "top5_customers.show()"
      ],
      "metadata": {
        "colab": {
          "base_uri": "https://localhost:8080/"
        },
        "id": "EHGoJtAGoKJq",
        "outputId": "e08b122b-47cf-430f-f2c0-f1bd11f3532f"
      },
      "execution_count": 19,
      "outputs": [
        {
          "output_type": "stream",
          "name": "stdout",
          "text": [
            "+-----------+-----------+\n",
            "|customer_id|total_spend|\n",
            "+-----------+-----------+\n",
            "|        505|      450.0|\n",
            "|        504|      127.5|\n",
            "|        501|       76.5|\n",
            "|        506|       60.0|\n",
            "|        502|       30.0|\n",
            "+-----------+-----------+\n",
            "\n"
          ]
        }
      ]
    },
    {
      "cell_type": "code",
      "source": [
        "# 3. Categorizing Customers Based on Spend\n",
        "spend_per_customer = sales_df.groupBy(\"customer_id\") \\\n",
        "    .agg(F.sum(\"revenue\").alias(\"total_spend\")) \\\n",
        "    .withColumn(\"spend_category\",\n",
        "        F.when(F.col(\"total_spend\") < 100, \"Low\")\n",
        "         .when(F.col(\"total_spend\") < 200, \"Medium\")\n",
        "         .otherwise(\"High\")\n",
        "    )\n",
        "spend_per_customer.show()"
      ],
      "metadata": {
        "colab": {
          "base_uri": "https://localhost:8080/"
        },
        "id": "ZV2yy5L5oONf",
        "outputId": "2293d18f-e792-40ff-96cb-87f3b04cf1dd"
      },
      "execution_count": 20,
      "outputs": [
        {
          "output_type": "stream",
          "name": "stdout",
          "text": [
            "+-----------+-----------+--------------+\n",
            "|customer_id|total_spend|spend_category|\n",
            "+-----------+-----------+--------------+\n",
            "|        502|       30.0|           Low|\n",
            "|        501|       76.5|           Low|\n",
            "|        503|       30.0|           Low|\n",
            "|        504|      127.5|        Medium|\n",
            "|        506|       60.0|           Low|\n",
            "|        505|      450.0|          High|\n",
            "+-----------+-----------+--------------+\n",
            "\n"
          ]
        }
      ]
    },
    {
      "cell_type": "code",
      "source": [
        "# 4. Finding First and Last Purchase for Each Customer\n",
        "purchase_dates = sales_df.groupBy(\"customer_id\") \\\n",
        "    .agg(\n",
        "        F.min(\"sale_date\").alias(\"first_purchase\"),\n",
        "        F.max(\"sale_date\").alias(\"last_purchase\")\n",
        "    )\n",
        "purchase_dates.show()"
      ],
      "metadata": {
        "colab": {
          "base_uri": "https://localhost:8080/"
        },
        "id": "76gO-zdFoRRd",
        "outputId": "f92c6ce8-1ede-41de-b03b-1959a968929b"
      },
      "execution_count": 21,
      "outputs": [
        {
          "output_type": "stream",
          "name": "stdout",
          "text": [
            "+-----------+-------------------+-------------------+\n",
            "|customer_id|     first_purchase|      last_purchase|\n",
            "+-----------+-------------------+-------------------+\n",
            "|        501|2025-07-10 08:23:00|2025-07-10 08:23:00|\n",
            "|        502|2025-07-11 09:45:00|2025-07-11 09:45:00|\n",
            "|        503|2025-07-12 10:15:00|2025-07-12 10:15:00|\n",
            "|        504|2025-07-13 12:20:00|2025-07-13 12:20:00|\n",
            "|        505|2025-07-14 14:35:00|2025-07-14 14:35:00|\n",
            "|        506|2025-07-15 16:00:00|2025-07-15 16:00:00|\n",
            "+-----------+-------------------+-------------------+\n",
            "\n"
          ]
        }
      ]
    },
    {
      "cell_type": "code",
      "source": [
        "# 5. Customer Churn (No Purchase in Last 30 Days)\n",
        "last_purchase = sales_df.groupBy(\"customer_id\") \\\n",
        "    .agg(F.max(\"sale_date\").alias(\"last_purchase\"))\n",
        "churn_customers = last_purchase.filter(\n",
        "    F.datediff(F.current_date(), F.col(\"last_purchase\")) > 30\n",
        ")\n",
        "churn_customers.show()"
      ],
      "metadata": {
        "colab": {
          "base_uri": "https://localhost:8080/"
        },
        "id": "AUArmyWToUzS",
        "outputId": "9440eafc-4d37-48f9-a11f-c60046e9f670"
      },
      "execution_count": 22,
      "outputs": [
        {
          "output_type": "stream",
          "name": "stdout",
          "text": [
            "+-----------+-------------+\n",
            "|customer_id|last_purchase|\n",
            "+-----------+-------------+\n",
            "+-----------+-------------+\n",
            "\n"
          ]
        }
      ]
    },
    {
      "cell_type": "code",
      "source": [],
      "metadata": {
        "id": "J0-t1PjxoYGa"
      },
      "execution_count": null,
      "outputs": []
    }
  ]
}