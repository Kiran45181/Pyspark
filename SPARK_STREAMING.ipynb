{
  "nbformat": 4,
  "nbformat_minor": 0,
  "metadata": {
    "colab": {
      "provenance": [],
      "authorship_tag": "ABX9TyNPED1Q6mxK7Q9xpA3U3qba",
      "include_colab_link": true
    },
    "kernelspec": {
      "name": "python3",
      "display_name": "Python 3"
    },
    "language_info": {
      "name": "python"
    }
  },
  "cells": [
    {
      "cell_type": "markdown",
      "metadata": {
        "id": "view-in-github",
        "colab_type": "text"
      },
      "source": [
        "<a href=\"https://colab.research.google.com/github/Kiran45181/Pyspark/blob/main/SPARK_STREAMING.ipynb\" target=\"_parent\"><img src=\"https://colab.research.google.com/assets/colab-badge.svg\" alt=\"Open In Colab\"/></a>"
      ]
    },
    {
      "cell_type": "markdown",
      "source": [
        "##Spark Streaming"
      ],
      "metadata": {
        "id": "m7fFPFayoevL"
      }
    },
    {
      "cell_type": "code",
      "execution_count": 1,
      "metadata": {
        "colab": {
          "base_uri": "https://localhost:8080/"
        },
        "id": "jow8rXugirjb",
        "outputId": "1288fc07-50e7-4d95-ef45-c7978a6ce174"
      },
      "outputs": [
        {
          "output_type": "stream",
          "name": "stdout",
          "text": [
            "CSV file 'employee_data.csv' has been generated successfully.\n"
          ]
        }
      ],
      "source": [
        "import random\n",
        "import csv\n",
        "\n",
        "# Generate 30 records with random data\n",
        "names = [\"John\", \"Jane\", \"Mike\", \"Sara\", \"David\", \"Emily\", \"George\", \"Nina\", \"Tom\", \"Anna\"]\n",
        "departments = [\"Sales\", \"IT\", \"HR\", \"Finance\", \"Marketing\"]\n",
        "salaries = [3000, 4000, 5000, 6000, 7000, 8000, 9000, 10000]\n",
        "\n",
        "# Create and open a CSV file for writing\n",
        "with open('employee_data.csv', mode='w', newline='') as file:\n",
        "    writer = csv.writer(file)\n",
        "\n",
        "    # Write the header\n",
        "    writer.writerow([\"ID\", \"Name\", \"Department\", \"Salary\"])\n",
        "\n",
        "    # Write the 30 records\n",
        "    for i in range(1, 31):\n",
        "        name = random.choice(names)\n",
        "        department = random.choice(departments)\n",
        "        salary = random.choice(salaries)\n",
        "        writer.writerow([i, name, department, salary])\n",
        "\n",
        "print(\"CSV file 'employee_data.csv' has been generated successfully.\")"
      ]
    },
    {
      "cell_type": "code",
      "source": [
        "!cat /content/employee_data.csv"
      ],
      "metadata": {
        "colab": {
          "base_uri": "https://localhost:8080/"
        },
        "collapsed": true,
        "id": "xa9suP-4oxoT",
        "outputId": "b9869348-1999-4d5e-b90d-7bd15ca774c3"
      },
      "execution_count": 2,
      "outputs": [
        {
          "output_type": "stream",
          "name": "stdout",
          "text": [
            "ID,Name,Department,Salary\r\n",
            "1,Emily,Sales,8000\r\n",
            "2,Sara,Marketing,5000\r\n",
            "3,John,HR,5000\r\n",
            "4,Sara,HR,10000\r\n",
            "5,Anna,Sales,8000\r\n",
            "6,David,IT,9000\r\n",
            "7,David,Marketing,10000\r\n",
            "8,Mike,Finance,5000\r\n",
            "9,Jane,Finance,5000\r\n",
            "10,Jane,IT,5000\r\n",
            "11,Tom,Sales,9000\r\n",
            "12,Emily,Sales,10000\r\n",
            "13,John,Marketing,10000\r\n",
            "14,Sara,IT,7000\r\n",
            "15,Emily,Sales,5000\r\n",
            "16,David,IT,7000\r\n",
            "17,Nina,Finance,9000\r\n",
            "18,Tom,Finance,10000\r\n",
            "19,David,HR,8000\r\n",
            "20,Nina,IT,10000\r\n",
            "21,John,IT,8000\r\n",
            "22,John,Sales,6000\r\n",
            "23,David,Finance,8000\r\n",
            "24,David,Sales,5000\r\n",
            "25,George,HR,5000\r\n",
            "26,Jane,Marketing,6000\r\n",
            "27,Emily,Marketing,10000\r\n",
            "28,Tom,HR,3000\r\n",
            "29,Jane,HR,3000\r\n",
            "30,Sara,Marketing,4000\r\n"
          ]
        }
      ]
    },
    {
      "cell_type": "code",
      "source": [
        "!ls /content/ -a"
      ],
      "metadata": {
        "colab": {
          "base_uri": "https://localhost:8080/"
        },
        "collapsed": true,
        "id": "96RGMxaTo7Ig",
        "outputId": "a934eee8-39f4-4a9a-d7cb-cc9634169abc"
      },
      "execution_count": 3,
      "outputs": [
        {
          "output_type": "stream",
          "name": "stdout",
          "text": [
            ".  ..  .config\temployee_data.csv  sample_data\n"
          ]
        }
      ]
    },
    {
      "cell_type": "code",
      "source": [
        "!mkdir /content/empdata/"
      ],
      "metadata": {
        "id": "9YkzNlLepMXo"
      },
      "execution_count": 4,
      "outputs": []
    },
    {
      "cell_type": "code",
      "source": [
        "!mv /content/employee_data.csv /content/empdata/"
      ],
      "metadata": {
        "id": "zlDZuT-tpSWN"
      },
      "execution_count": 5,
      "outputs": []
    },
    {
      "cell_type": "code",
      "source": [
        "!ls /content/empdata"
      ],
      "metadata": {
        "colab": {
          "base_uri": "https://localhost:8080/"
        },
        "collapsed": true,
        "id": "pFkNoDjupYB5",
        "outputId": "81b5479e-7ee6-4eec-feab-2361f87e9c4f"
      },
      "execution_count": 6,
      "outputs": [
        {
          "output_type": "stream",
          "name": "stdout",
          "text": [
            "employee_data.csv\n"
          ]
        }
      ]
    },
    {
      "cell_type": "code",
      "source": [
        "!ls /content/empdata/employee_data.csv"
      ],
      "metadata": {
        "colab": {
          "base_uri": "https://localhost:8080/"
        },
        "collapsed": true,
        "id": "h-Evj4-IpcKs",
        "outputId": "496a3457-6402-4c8c-f042-b0a73b69e5cf"
      },
      "execution_count": 7,
      "outputs": [
        {
          "output_type": "stream",
          "name": "stdout",
          "text": [
            "/content/empdata/employee_data.csv\n"
          ]
        }
      ]
    },
    {
      "cell_type": "code",
      "source": [
        "!cat /content/empdata/employee_data.csv"
      ],
      "metadata": {
        "colab": {
          "base_uri": "https://localhost:8080/"
        },
        "collapsed": true,
        "id": "m3t39XX5pfnd",
        "outputId": "9d71bc4a-ceca-4fb5-8349-547f6d61d55c"
      },
      "execution_count": 8,
      "outputs": [
        {
          "output_type": "stream",
          "name": "stdout",
          "text": [
            "ID,Name,Department,Salary\r\n",
            "1,Emily,Sales,8000\r\n",
            "2,Sara,Marketing,5000\r\n",
            "3,John,HR,5000\r\n",
            "4,Sara,HR,10000\r\n",
            "5,Anna,Sales,8000\r\n",
            "6,David,IT,9000\r\n",
            "7,David,Marketing,10000\r\n",
            "8,Mike,Finance,5000\r\n",
            "9,Jane,Finance,5000\r\n",
            "10,Jane,IT,5000\r\n",
            "11,Tom,Sales,9000\r\n",
            "12,Emily,Sales,10000\r\n",
            "13,John,Marketing,10000\r\n",
            "14,Sara,IT,7000\r\n",
            "15,Emily,Sales,5000\r\n",
            "16,David,IT,7000\r\n",
            "17,Nina,Finance,9000\r\n",
            "18,Tom,Finance,10000\r\n",
            "19,David,HR,8000\r\n",
            "20,Nina,IT,10000\r\n",
            "21,John,IT,8000\r\n",
            "22,John,Sales,6000\r\n",
            "23,David,Finance,8000\r\n",
            "24,David,Sales,5000\r\n",
            "25,George,HR,5000\r\n",
            "26,Jane,Marketing,6000\r\n",
            "27,Emily,Marketing,10000\r\n",
            "28,Tom,HR,3000\r\n",
            "29,Jane,HR,3000\r\n",
            "30,Sara,Marketing,4000\r\n"
          ]
        }
      ]
    },
    {
      "cell_type": "code",
      "source": [
        "from pyspark.sql.types import StructType, IntegerType, StringType\n",
        "\n",
        "schema = StructType() \\\n",
        "    .add(\"EmpID\", IntegerType()) \\\n",
        "    .add(\"Name\", StringType()) \\\n",
        "    .add(\"Department\", StringType()) \\\n",
        "    .add(\"Salary\", IntegerType())\n",
        "\n",
        "print(schema)"
      ],
      "metadata": {
        "colab": {
          "base_uri": "https://localhost:8080/"
        },
        "id": "h23jFS1Epj3Q",
        "outputId": "9d93f6e6-e0fe-4076-f500-8ee0c62f8178"
      },
      "execution_count": 10,
      "outputs": [
        {
          "output_type": "stream",
          "name": "stdout",
          "text": [
            "StructType([StructField('EmpID', IntegerType(), True), StructField('Name', StringType(), True), StructField('Department', StringType(), True), StructField('Salary', IntegerType(), True)])\n"
          ]
        }
      ]
    },
    {
      "cell_type": "code",
      "source": [
        "from pyspark.sql  import SparkSession\n",
        "spark = SparkSession.builder.appName(\"sparkSQLBasics\").getOrCreate()\n",
        "\n",
        "stream_df = spark.readStream \\\n",
        "  .option(\"sep\", \",\") \\\n",
        "  .schema(schema) \\\n",
        "  .csv(\"/content/empdata\")"
      ],
      "metadata": {
        "id": "hPyIUkNXrrOm"
      },
      "execution_count": 11,
      "outputs": []
    },
    {
      "cell_type": "code",
      "source": [
        "from pyspark.sql.functions import upper\n",
        "transformed_df = stream_df.withColumn(\"NameUPPER\", upper(\"Name\"))"
      ],
      "metadata": {
        "id": "UJaPY63zseX7"
      },
      "execution_count": 12,
      "outputs": []
    },
    {
      "cell_type": "code",
      "source": [
        "query = transformed_df.writeStream \\\n",
        ".outputMode(\"append\") \\\n",
        ".format(\"console\")\\\n",
        ".start()"
      ],
      "metadata": {
        "id": "QQ2e0EY8s7wM"
      },
      "execution_count": 13,
      "outputs": []
    },
    {
      "cell_type": "code",
      "source": [
        "query.stop()"
      ],
      "metadata": {
        "id": "QUQbVnsmtO_O"
      },
      "execution_count": 14,
      "outputs": []
    },
    {
      "cell_type": "code",
      "source": [
        "%%bash\n",
        "cat<<EOF > /content/empdata/employee_data2.csv\n",
        "1,John,Sales,3000\n",
        "2,Jane,IT,4000\n",
        "3,Mike,Sales,5000\n",
        "4,Sara,Finance,6000\n",
        "5,David,HR,7000\n",
        "6,Emily,Marketing,6000\n",
        "7,George,HR,4000\n",
        "8,Nina,Sales,5000\n",
        "9,Tom,IT,8000\n",
        "10,Anna,Marketing,3000\n",
        "EOF"
      ],
      "metadata": {
        "id": "7mtT0IDjtRGY"
      },
      "execution_count": 15,
      "outputs": []
    },
    {
      "cell_type": "code",
      "source": [
        "!cat /content/empdata/employee_data2.csv"
      ],
      "metadata": {
        "colab": {
          "base_uri": "https://localhost:8080/"
        },
        "id": "GlONb4KTvI_8",
        "outputId": "f58159da-4950-4790-f233-26c9450cafe8"
      },
      "execution_count": 16,
      "outputs": [
        {
          "output_type": "stream",
          "name": "stdout",
          "text": [
            "1,John,Sales,3000\n",
            "2,Jane,IT,4000\n",
            "3,Mike,Sales,5000\n",
            "4,Sara,Finance,6000\n",
            "5,David,HR,7000\n",
            "6,Emily,Marketing,6000\n",
            "7,George,HR,4000\n",
            "8,Nina,Sales,5000\n",
            "9,Tom,IT,8000\n",
            "10,Anna,Marketing,3000\n"
          ]
        }
      ]
    },
    {
      "cell_type": "code",
      "source": [
        "!cat /content/empdata/"
      ],
      "metadata": {
        "colab": {
          "base_uri": "https://localhost:8080/"
        },
        "id": "Xq6OGkmdvPMg",
        "outputId": "c753d227-1c62-4764-cee4-e49e6438896b"
      },
      "execution_count": 17,
      "outputs": [
        {
          "output_type": "stream",
          "name": "stdout",
          "text": [
            "cat: /content/empdata/: Is a directory\n"
          ]
        }
      ]
    },
    {
      "cell_type": "code",
      "source": [
        "!ls /content/empdata/"
      ],
      "metadata": {
        "colab": {
          "base_uri": "https://localhost:8080/"
        },
        "id": "CNjyXm0qv6-W",
        "outputId": "fcddd9d9-bf9c-4aff-b133-080fb510a753"
      },
      "execution_count": 18,
      "outputs": [
        {
          "output_type": "stream",
          "name": "stdout",
          "text": [
            "employee_data2.csv  employee_data.csv\n"
          ]
        }
      ]
    },
    {
      "cell_type": "code",
      "source": [
        "\n",
        "# folder where JSON files will be saved\n",
        "query = stream_df.writeStream \\\n",
        "    .format(\"json\") \\\n",
        "    .option(\"path\", \"/content/json_output\") \\\n",
        "    .option(\"checkpointLocation\", \"/content/chkpt\") \\\n",
        "    .outputMode(\"append\") \\\n",
        "    .start()\n"
      ],
      "metadata": {
        "id": "wqPlA5m2v_he"
      },
      "execution_count": 22,
      "outputs": []
    },
    {
      "cell_type": "code",
      "source": [
        "df = spark.read.json(\"/content/json_output\")\n",
        "df.show()"
      ],
      "metadata": {
        "colab": {
          "base_uri": "https://localhost:8080/"
        },
        "id": "OKrX7ANQ4eOi",
        "outputId": "55fee029-7ca4-4b2b-c5d0-660d0af98f59"
      },
      "execution_count": 24,
      "outputs": [
        {
          "output_type": "stream",
          "name": "stdout",
          "text": [
            "+----------+-----+-----+------+\n",
            "|Department|EmpID| Name|Salary|\n",
            "+----------+-----+-----+------+\n",
            "|Department| NULL| Name|  NULL|\n",
            "|     Sales|    1|Emily|  8000|\n",
            "| Marketing|    2| Sara|  5000|\n",
            "|        HR|    3| John|  5000|\n",
            "|        HR|    4| Sara| 10000|\n",
            "|     Sales|    5| Anna|  8000|\n",
            "|        IT|    6|David|  9000|\n",
            "| Marketing|    7|David| 10000|\n",
            "|   Finance|    8| Mike|  5000|\n",
            "|   Finance|    9| Jane|  5000|\n",
            "|        IT|   10| Jane|  5000|\n",
            "|     Sales|   11|  Tom|  9000|\n",
            "|     Sales|   12|Emily| 10000|\n",
            "| Marketing|   13| John| 10000|\n",
            "|        IT|   14| Sara|  7000|\n",
            "|     Sales|   15|Emily|  5000|\n",
            "|        IT|   16|David|  7000|\n",
            "|   Finance|   17| Nina|  9000|\n",
            "|   Finance|   18|  Tom| 10000|\n",
            "|        HR|   19|David|  8000|\n",
            "+----------+-----+-----+------+\n",
            "only showing top 20 rows\n",
            "\n"
          ]
        }
      ]
    },
    {
      "cell_type": "code",
      "source": [],
      "metadata": {
        "id": "mEVkiKan4wEe"
      },
      "execution_count": null,
      "outputs": []
    }
  ]
}