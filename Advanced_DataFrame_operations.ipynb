{
  "nbformat": 4,
  "nbformat_minor": 0,
  "metadata": {
    "colab": {
      "provenance": [],
      "authorship_tag": "ABX9TyODsPO9LnX3KxgJ4BLYZGDq",
      "include_colab_link": true
    },
    "kernelspec": {
      "name": "python3",
      "display_name": "Python 3"
    },
    "language_info": {
      "name": "python"
    }
  },
  "cells": [
    {
      "cell_type": "markdown",
      "metadata": {
        "id": "view-in-github",
        "colab_type": "text"
      },
      "source": [
        "<a href=\"https://colab.research.google.com/github/Kiran45181/Pyspark/blob/main/Advanced_DataFrame_operations.ipynb\" target=\"_parent\"><img src=\"https://colab.research.google.com/assets/colab-badge.svg\" alt=\"Open In Colab\"/></a>"
      ]
    },
    {
      "cell_type": "markdown",
      "source": [
        "##Advanced DataFrame operations"
      ],
      "metadata": {
        "id": "94mX5UHRY0bp"
      }
    },
    {
      "cell_type": "markdown",
      "source": [
        "##Adv Pyspark (Window Functions)"
      ],
      "metadata": {
        "id": "R6wjA3k4Y-_8"
      }
    },
    {
      "cell_type": "code",
      "execution_count": 14,
      "metadata": {
        "colab": {
          "base_uri": "https://localhost:8080/"
        },
        "id": "aws9E-oLYwcs",
        "outputId": "ab9e068b-dfdf-452f-ede7-4a26834d482a"
      },
      "outputs": [
        {
          "output_type": "stream",
          "name": "stdout",
          "text": [
            "+---+-------+------+------------------------+---------------------------+\n",
            "|id |name   |salary|subjects                |address                    |\n",
            "+---+-------+------+------------------------+---------------------------+\n",
            "|1  |Alice  |2000  |[math, science]         |{zip -> 10001, city -> NYC}|\n",
            "|2  |Bob    |1500  |[english]               |{zip -> 94105, city -> SF} |\n",
            "|3  |Charlie|2200  |[math, history, science]|{zip -> 10001, city -> NYC}|\n",
            "|4  |David  |1200  |[art]                   |{zip -> 90001, city -> LA} |\n",
            "+---+-------+------+------------------------+---------------------------+\n",
            "\n"
          ]
        }
      ],
      "source": [
        "from pyspark.sql import SparkSession\n",
        "from pyspark.sql.functions import *\n",
        "\n",
        "spark = SparkSession.builder.appName(\"AdvancedOps\").getOrCreate()\n",
        "\n",
        "data = [\n",
        "    (1, \"Alice\", 2000, [\"math\", \"science\"], {\"city\": \"NYC\", \"zip\": \"10001\"}),\n",
        "    (2, \"Bob\", 1500, [\"english\"], {\"city\": \"SF\", \"zip\": \"94105\"}),\n",
        "    (3, \"Charlie\", 2200, [\"math\", \"history\", \"science\"], {\"city\": \"NYC\", \"zip\": \"10001\"}),\n",
        "    (4, \"David\", 1200, [\"art\"], {\"city\": \"LA\", \"zip\": \"90001\"}),\n",
        "]\n",
        "\n",
        "df = spark.createDataFrame(data, schema=[\"id\", \"name\", \"salary\", \"subjects\", \"address\"])\n",
        "df.show(truncate=False)"
      ]
    },
    {
      "cell_type": "code",
      "source": [
        "#import window function in pyspark\n",
        "from pyspark.sql.window import Window\n",
        "\n",
        "window_spec = Window.partitionBy(\"address.city\").orderBy(\"salary\")\n",
        "df.withColumn(\"rank\", rank().over(window_spec)).show()\n"
      ],
      "metadata": {
        "colab": {
          "base_uri": "https://localhost:8080/"
        },
        "id": "n_EYiTrOZErw",
        "outputId": "96acea8b-8548-45d2-8f44-8d0f06c6be0a"
      },
      "execution_count": 15,
      "outputs": [
        {
          "output_type": "stream",
          "name": "stdout",
          "text": [
            "+---+-------+------+--------------------+--------------------+----+\n",
            "| id|   name|salary|            subjects|             address|rank|\n",
            "+---+-------+------+--------------------+--------------------+----+\n",
            "|  4|  David|  1200|               [art]|{zip -> 90001, ci...|   1|\n",
            "|  1|  Alice|  2000|     [math, science]|{zip -> 10001, ci...|   1|\n",
            "|  3|Charlie|  2200|[math, history, s...|{zip -> 10001, ci...|   2|\n",
            "|  2|    Bob|  1500|           [english]|{zip -> 94105, ci...|   1|\n",
            "+---+-------+------+--------------------+--------------------+----+\n",
            "\n"
          ]
        }
      ]
    },
    {
      "cell_type": "code",
      "source": [
        "from pyspark.sql.window import Window\n",
        "from pyspark.sql.functions import col, row_number, rank, dense_rank, max, sum, avg\n",
        "\n",
        "# Employee Data\n",
        "data = [\n",
        "    (1, \"John\", \"Sales\", 3000),\n",
        "    (2, \"Jane\", \"Finance\", 4000),\n",
        "    (3, \"Mike\", \"Sales\", 3500),\n",
        "    (4, \"Alice\", \"Finance\", 3800),\n",
        "    (5, \"Bob\", \"IT\", 4500),\n",
        "    (6, \"Tom\", \"Sales\", 3700),\n",
        "    (7, \"Jerry\", \"Finance\", 4200),\n",
        "    (8, \"Sam\", \"IT\", 4700),\n",
        "    (9, \"Steve\", \"Sales\", 3100),\n",
        "    (10, \"Rachel\", \"IT\", 4600)\n",
        "]\n",
        "columns = [\"EmpID\", \"Name\", \"Department\", \"Salary\"]\n",
        "df = spark.createDataFrame(data, columns)\n",
        "\n",
        "df.show()"
      ],
      "metadata": {
        "colab": {
          "base_uri": "https://localhost:8080/"
        },
        "collapsed": true,
        "id": "k37O__mkby0u",
        "outputId": "b75fdfb8-8ba0-43c8-bd11-6babecaa81b9"
      },
      "execution_count": 16,
      "outputs": [
        {
          "output_type": "stream",
          "name": "stdout",
          "text": [
            "+-----+------+----------+------+\n",
            "|EmpID|  Name|Department|Salary|\n",
            "+-----+------+----------+------+\n",
            "|    1|  John|     Sales|  3000|\n",
            "|    2|  Jane|   Finance|  4000|\n",
            "|    3|  Mike|     Sales|  3500|\n",
            "|    4| Alice|   Finance|  3800|\n",
            "|    5|   Bob|        IT|  4500|\n",
            "|    6|   Tom|     Sales|  3700|\n",
            "|    7| Jerry|   Finance|  4200|\n",
            "|    8|   Sam|        IT|  4700|\n",
            "|    9| Steve|     Sales|  3100|\n",
            "|   10|Rachel|        IT|  4600|\n",
            "+-----+------+----------+------+\n",
            "\n"
          ]
        }
      ]
    },
    {
      "cell_type": "code",
      "source": [
        "window_spec = Window.partitionBy(\"Department\").orderBy(col(\"Salary\").desc())\n",
        "\n",
        "df.withColumn(\"Rank\", rank().over(window_spec)).show()"
      ],
      "metadata": {
        "colab": {
          "base_uri": "https://localhost:8080/"
        },
        "collapsed": true,
        "id": "UpGdfKc8d0Ir",
        "outputId": "eb0a41bf-d126-45f2-9633-caa68525e386"
      },
      "execution_count": 17,
      "outputs": [
        {
          "output_type": "stream",
          "name": "stdout",
          "text": [
            "+-----+------+----------+------+----+\n",
            "|EmpID|  Name|Department|Salary|Rank|\n",
            "+-----+------+----------+------+----+\n",
            "|    7| Jerry|   Finance|  4200|   1|\n",
            "|    2|  Jane|   Finance|  4000|   2|\n",
            "|    4| Alice|   Finance|  3800|   3|\n",
            "|    8|   Sam|        IT|  4700|   1|\n",
            "|   10|Rachel|        IT|  4600|   2|\n",
            "|    5|   Bob|        IT|  4500|   3|\n",
            "|    6|   Tom|     Sales|  3700|   1|\n",
            "|    3|  Mike|     Sales|  3500|   2|\n",
            "|    9| Steve|     Sales|  3100|   3|\n",
            "|    1|  John|     Sales|  3000|   4|\n",
            "+-----+------+----------+------+----+\n",
            "\n"
          ]
        }
      ]
    },
    {
      "cell_type": "code",
      "source": [
        "#max in department\n",
        "window_spec = Window.partitionBy(\"Department\").orderBy(col(\"Salary\").desc())\n",
        "\n",
        "df.withColumn(\"Max Salary\", max(\"Salary\").over(window_spec)).show()"
      ],
      "metadata": {
        "colab": {
          "base_uri": "https://localhost:8080/"
        },
        "collapsed": true,
        "id": "BNYSQ0yBdKGm",
        "outputId": "4fcb9498-4b24-45b5-eb4f-6a9a080ad321"
      },
      "execution_count": 18,
      "outputs": [
        {
          "output_type": "stream",
          "name": "stdout",
          "text": [
            "+-----+------+----------+------+----------+\n",
            "|EmpID|  Name|Department|Salary|Max Salary|\n",
            "+-----+------+----------+------+----------+\n",
            "|    7| Jerry|   Finance|  4200|      4200|\n",
            "|    2|  Jane|   Finance|  4000|      4200|\n",
            "|    4| Alice|   Finance|  3800|      4200|\n",
            "|    8|   Sam|        IT|  4700|      4700|\n",
            "|   10|Rachel|        IT|  4600|      4700|\n",
            "|    5|   Bob|        IT|  4500|      4700|\n",
            "|    6|   Tom|     Sales|  3700|      3700|\n",
            "|    3|  Mike|     Sales|  3500|      3700|\n",
            "|    9| Steve|     Sales|  3100|      3700|\n",
            "|    1|  John|     Sales|  3000|      3700|\n",
            "+-----+------+----------+------+----------+\n",
            "\n"
          ]
        }
      ]
    },
    {
      "cell_type": "code",
      "source": [
        "#department name and max salary\n",
        "window_spec = Window.partitionBy(\"Department\").orderBy(col(\"Salary\").desc())\n",
        "\n",
        "df.withColumn(\"Max Salary\", max(\"Salary\").over(window_spec)).select(\"Department\", \"Max Salary\").distinct().show()"
      ],
      "metadata": {
        "colab": {
          "base_uri": "https://localhost:8080/"
        },
        "collapsed": true,
        "id": "imQP4cuPemAW",
        "outputId": "fd868338-5c23-4ffa-f586-ee0f452664af"
      },
      "execution_count": 19,
      "outputs": [
        {
          "output_type": "stream",
          "name": "stdout",
          "text": [
            "+----------+----------+\n",
            "|Department|Max Salary|\n",
            "+----------+----------+\n",
            "|   Finance|      4200|\n",
            "|        IT|      4700|\n",
            "|     Sales|      3700|\n",
            "+----------+----------+\n",
            "\n"
          ]
        }
      ]
    },
    {
      "cell_type": "code",
      "source": [
        "## apply unboundpreceding on above\n",
        "window_spec = Window.partitionBy(\"Department\").orderBy(\"Salary\").rowsBetween(Window.unboundedPreceding, 0)\n",
        "df.withColumn(\"Cumulative Salary\", sum(\"Salary\").over(window_spec)).show()"
      ],
      "metadata": {
        "id": "hSe8NaRifABr",
        "colab": {
          "base_uri": "https://localhost:8080/"
        },
        "outputId": "6a51152f-f2eb-4b63-e9f9-06cf303d9d6f"
      },
      "execution_count": 21,
      "outputs": [
        {
          "output_type": "stream",
          "name": "stdout",
          "text": [
            "+-----+------+----------+------+-----------------+\n",
            "|EmpID|  Name|Department|Salary|Cumulative Salary|\n",
            "+-----+------+----------+------+-----------------+\n",
            "|    4| Alice|   Finance|  3800|             3800|\n",
            "|    2|  Jane|   Finance|  4000|             7800|\n",
            "|    7| Jerry|   Finance|  4200|            12000|\n",
            "|    5|   Bob|        IT|  4500|             4500|\n",
            "|   10|Rachel|        IT|  4600|             9100|\n",
            "|    8|   Sam|        IT|  4700|            13800|\n",
            "|    1|  John|     Sales|  3000|             3000|\n",
            "|    9| Steve|     Sales|  3100|             6100|\n",
            "|    3|  Mike|     Sales|  3500|             9600|\n",
            "|    6|   Tom|     Sales|  3700|            13300|\n",
            "+-----+------+----------+------+-----------------+\n",
            "\n"
          ]
        }
      ]
    },
    {
      "cell_type": "code",
      "source": [
        "window_base = Window.partitionBy(\"Department\").orderBy(\"Salary\")\n",
        "window_current = window_base.rowsBetween(0, 0)\n",
        "df.withColumn(\"salary_currentOnly\", sum(\"Salary\").over(window_current)).show()\n"
      ],
      "metadata": {
        "colab": {
          "base_uri": "https://localhost:8080/"
        },
        "id": "uTk2rKA_41WG",
        "outputId": "0e387e83-da33-4754-a9f2-0de1703836e0"
      },
      "execution_count": 22,
      "outputs": [
        {
          "output_type": "stream",
          "name": "stdout",
          "text": [
            "+-----+------+----------+------+------------------+\n",
            "|EmpID|  Name|Department|Salary|salary_currentOnly|\n",
            "+-----+------+----------+------+------------------+\n",
            "|    4| Alice|   Finance|  3800|              3800|\n",
            "|    2|  Jane|   Finance|  4000|              4000|\n",
            "|    7| Jerry|   Finance|  4200|              4200|\n",
            "|    5|   Bob|        IT|  4500|              4500|\n",
            "|   10|Rachel|        IT|  4600|              4600|\n",
            "|    8|   Sam|        IT|  4700|              4700|\n",
            "|    1|  John|     Sales|  3000|              3000|\n",
            "|    9| Steve|     Sales|  3100|              3100|\n",
            "|    3|  Mike|     Sales|  3500|              3500|\n",
            "|    6|   Tom|     Sales|  3700|              3700|\n",
            "+-----+------+----------+------+------------------+\n",
            "\n"
          ]
        }
      ]
    },
    {
      "cell_type": "code",
      "source": [
        "from pyspark.sql import SparkSession\n",
        "from pyspark.sql.functions import *\n",
        "\n",
        "spark = SparkSession.builder.appName(\"AdvancedOps\").getOrCreate()\n",
        "\n",
        "data = [\n",
        "    (1, \"Alice\", 2000, [\"math\", \"science\"], {\"city\": \"NYC\", \"zip\": \"10001\"}),\n",
        "    (2, \"Bob\", 1500, [\"english\"], {\"city\": \"SF\", \"zip\": \"94105\"}),\n",
        "    (3, \"Charlie\", 2200, [\"math\", \"history\", \"science\"], {\"city\": \"NYC\", \"zip\": \"10001\"}),\n",
        "    (4, \"David\", 1200, [\"art\"], {\"city\": \"LA\", \"zip\": \"90001\"}),\n",
        "]\n",
        "\n",
        "df = spark.createDataFrame(data, schema=[\"id\", \"name\", \"salary\", \"subjects\", \"address\"])\n",
        "df.show(truncate=False)"
      ],
      "metadata": {
        "colab": {
          "base_uri": "https://localhost:8080/"
        },
        "id": "Mw3qVVOw66FG",
        "outputId": "4593b0fb-ecfc-4d37-acf5-d3c19e8de73b"
      },
      "execution_count": 23,
      "outputs": [
        {
          "output_type": "stream",
          "name": "stdout",
          "text": [
            "+---+-------+------+------------------------+---------------------------+\n",
            "|id |name   |salary|subjects                |address                    |\n",
            "+---+-------+------+------------------------+---------------------------+\n",
            "|1  |Alice  |2000  |[math, science]         |{zip -> 10001, city -> NYC}|\n",
            "|2  |Bob    |1500  |[english]               |{zip -> 94105, city -> SF} |\n",
            "|3  |Charlie|2200  |[math, history, science]|{zip -> 10001, city -> NYC}|\n",
            "|4  |David  |1200  |[art]                   |{zip -> 90001, city -> LA} |\n",
            "+---+-------+------+------------------------+---------------------------+\n",
            "\n"
          ]
        }
      ]
    },
    {
      "cell_type": "code",
      "source": [
        "#Row By Row by using UDF Apache Pyspark\n",
        "from pyspark.sql.types import IntegerType\n",
        "from pyspark.sql.functions import udf\n",
        "\n",
        "# Define UDF\n",
        "@udf(IntegerType())\n",
        "def subject_count(subjects):\n",
        "    return len(subjects)\n",
        "\n",
        "\n",
        "df.withColumn(\"subject_count\", subject_count(df.subjects)).show()"
      ],
      "metadata": {
        "colab": {
          "base_uri": "https://localhost:8080/"
        },
        "id": "dYq8NvSM7pIO",
        "outputId": "4f4aa1c0-1c9b-481a-8c48-5006e1182421"
      },
      "execution_count": 28,
      "outputs": [
        {
          "output_type": "stream",
          "name": "stdout",
          "text": [
            "+---+-------+------+--------------------+--------------------+-------------+\n",
            "| id|   name|salary|            subjects|             address|subject_count|\n",
            "+---+-------+------+--------------------+--------------------+-------------+\n",
            "|  1|  Alice|  2000|     [math, science]|{zip -> 10001, ci...|            2|\n",
            "|  2|    Bob|  1500|           [english]|{zip -> 94105, ci...|            1|\n",
            "|  3|Charlie|  2200|[math, history, s...|{zip -> 10001, ci...|            3|\n",
            "|  4|  David|  1200|               [art]|{zip -> 90001, ci...|            1|\n",
            "+---+-------+------+--------------------+--------------------+-------------+\n",
            "\n"
          ]
        }
      ]
    },
    {
      "cell_type": "code",
      "source": [
        "#pandas UDF (Vectorized UDF)\n",
        "import pandas as pd\n",
        "from pyspark.sql.functions import pandas_udf\n",
        "from pyspark.sql.types import DoubleType\n",
        "\n",
        "@pandas_udf(DoubleType())\n",
        "def multiply_by_two(s: pd.Series) -> pd.Series:\n",
        "  return s * 2\n",
        "\n",
        "df.withColumn(\"double_salary\", multiply_by_two(df.salary)).show()"
      ],
      "metadata": {
        "colab": {
          "base_uri": "https://localhost:8080/"
        },
        "id": "LMQMjah4-1TE",
        "outputId": "4dbd761f-7a1c-490e-ab34-acdc1be39016"
      },
      "execution_count": 26,
      "outputs": [
        {
          "output_type": "stream",
          "name": "stdout",
          "text": [
            "+---+-------+------+--------------------+--------------------+-------------+\n",
            "| id|   name|salary|            subjects|             address|double_salary|\n",
            "+---+-------+------+--------------------+--------------------+-------------+\n",
            "|  1|  Alice|  2000|     [math, science]|{zip -> 10001, ci...|       4000.0|\n",
            "|  2|    Bob|  1500|           [english]|{zip -> 94105, ci...|       3000.0|\n",
            "|  3|Charlie|  2200|[math, history, s...|{zip -> 10001, ci...|       4400.0|\n",
            "|  4|  David|  1200|               [art]|{zip -> 90001, ci...|       2400.0|\n",
            "+---+-------+------+--------------------+--------------------+-------------+\n",
            "\n"
          ]
        }
      ]
    },
    {
      "cell_type": "code",
      "source": [],
      "metadata": {
        "id": "fYVuTMdR_YCt"
      },
      "execution_count": null,
      "outputs": []
    }
  ]
}